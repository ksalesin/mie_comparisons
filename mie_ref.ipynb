{
 "cells": [
  {
   "cell_type": "markdown",
   "id": "neural-departure",
   "metadata": {},
   "source": [
    "#### Mie comparison notebook\n",
    "This notebook compares Mie Mueller matrix calculations done in Mitsuba versus a reference [Mishchenko et al. 2012].  \n",
    "Run all cells and use the sliders to adjust parameters to the Mie calculations.  \n",
    "Written by Kate 05/14/21."
   ]
  },
  {
   "cell_type": "code",
   "execution_count": 5,
   "id": "wired-verification",
   "metadata": {},
   "outputs": [],
   "source": [
    "import os\n",
    "import numpy as np\n",
    "import plotly.graph_objects as go\n",
    "from plotly.subplots import make_subplots\n",
    "from ipywidgets import widgets, interact"
   ]
  },
  {
   "cell_type": "code",
   "execution_count": 6,
   "id": "played-jumping",
   "metadata": {},
   "outputs": [],
   "source": [
    "# Read in file data\n",
    "mueller_files = [ f for f in os.listdir('print/') if f.endswith('.npy') ]\n",
    "mueller_data = [ np.load('print/' + f) for f in mueller_files ]\n",
    "\n",
    "mueller_dict = {}\n",
    "\n",
    "for i, f in enumerate(mueller_files):\n",
    "    mueller_dict[f] = mueller_data[i]\n",
    "    \n",
    "thetas = mueller_data[0][:,0]"
   ]
  },
  {
   "cell_type": "code",
   "execution_count": 7,
   "id": "honest-insurance",
   "metadata": {},
   "outputs": [
    {
     "data": {
      "application/vnd.jupyter.widget-view+json": {
       "model_id": "0933d736d977409681602f19fafd741f",
       "version_major": 2,
       "version_minor": 0
      },
      "text/plain": [
       "VBox(children=(HBox(children=(Label(value='wavelength (nm)', layout=Layout(width='250px')), FloatSlider(value=…"
      ]
     },
     "metadata": {},
     "output_type": "display_data"
    },
    {
     "data": {
      "application/vnd.jupyter.widget-view+json": {
       "model_id": "a3c5d98b2274447091e75d911186103d",
       "version_major": 2,
       "version_minor": 0
      },
      "text/plain": [
       "FigureWidget({\n",
       "    'data': [{'line': {'color': 'blue', 'width': 1},\n",
       "              'mode': 'lines',\n",
       "           …"
      ]
     },
     "metadata": {},
     "output_type": "display_data"
    }
   ],
   "source": [
    "# Set up UI\n",
    "wav_text = \"wavelength (nm)\"\n",
    "wav_slider = widgets.FloatSlider(value = 600.0, min = 400.0, max = 800.0, step = 100.0, continuous_update = False)\n",
    "wav_label = widgets.Label(value = wav_text, layout = widgets.Layout(width = '250px'))\n",
    "wav_box = widgets.HBox([wav_label, wav_slider])\n",
    "\n",
    "rad_text = \"radius of sphere (nm)\"\n",
    "rad_slider = widgets.SelectionSlider(options = [400.0, 500.0, 600.0, 700.0, 800.0, 900.0, 1000.0, 5000.0, 10000.0],\n",
    "    value = 1000.0, disabled = False, continuous_update = False, orientation = 'horizontal', readout = True)\n",
    "rad_label = widgets.Label(value = rad_text, layout = widgets.Layout(width = '250px'))\n",
    "rad_box = widgets.HBox([rad_label, rad_slider])\n",
    "\n",
    "ior_imag_text = \"IOR of sphere (imag)\"\n",
    "ior_imag_slider = widgets.SelectionSlider(options=[0.0, 1e-4, 1e-3, 1e-2, 1e-1, 5e-1, 1e0],\n",
    "    value = 0.0, disabled = False, continuous_update = False, orientation = 'horizontal', readout = True)\n",
    "ior_imag_label = widgets.Label(value = ior_imag_text, layout = widgets.Layout(width = '250px'))\n",
    "ior_imag_box = widgets.HBox([ior_imag_label, ior_imag_slider])\n",
    "\n",
    "warning_text = \"There is no data for this set of parameters.\"\n",
    "warning_label = widgets.Button(description = warning_text, button_style = 'warning', \n",
    "                               layout = widgets.Layout(width = '300px'))\n",
    "ui = widgets.VBox([wav_box, rad_box, ior_imag_box])\n",
    "\n",
    "# Show warning about missing data\n",
    "def warning_on_display():\n",
    "    return len(ui.children) == 4\n",
    "\n",
    "# Format float for filename\n",
    "def float_to_str(f):\n",
    "    f_str = '{:.2e}'.format(f)\n",
    "    f_str = f_str.replace('e', 'D')\n",
    "    f_str = f_str.replace('.', '_')\n",
    "    return f_str\n",
    "\n",
    "# Convert values to filename\n",
    "def values_to_filenames(w, r, i):\n",
    "    w_str = float_to_str(w / 1000.0) # nm to um\n",
    "    r_str = float_to_str(r / 1000.0) # nm to um\n",
    "    i_str = float_to_str(i)\n",
    "    \n",
    "    file_pfx = 'w' + w_str + 'r' + r_str + 'i' + i_str\n",
    "    return file_pfx + '.npy', file_pfx + '_mts.npy'\n",
    "\n",
    "# Make 2x2 figure\n",
    "fig = make_subplots(rows = 2, cols = 2, subplot_titles = ['m11', 'm12', 'm33', 'm34'])\n",
    "\n",
    "start_file_ref, start_file_mts = values_to_filenames(600.0, 1000.0, 0.0)\n",
    "\n",
    "# Fill in figure with line plots\n",
    "for i in range(2):\n",
    "    for j in range(2):\n",
    "        k = i*2 + j\n",
    "        \n",
    "        # Reference data (from Mishchenko Fortran code)\n",
    "        fig.add_trace(go.Scatter(\n",
    "            x = thetas,\n",
    "            y = mueller_dict[start_file_ref][:,k],\n",
    "            mode = 'lines',\n",
    "            name = 'mishchenko',\n",
    "            line = dict(\n",
    "                        width = 1,\n",
    "                        color = \"blue\"\n",
    "                   ),\n",
    "            showlegend = (i == 0 and j == 0)\n",
    "            ),\n",
    "            row = i+1,\n",
    "            col = j+1\n",
    "        )\n",
    "\n",
    "        # Mitsuba data\n",
    "        fig.add_trace(go.Scatter(\n",
    "            x = thetas,\n",
    "            y = mueller_dict[start_file_mts][:,k],\n",
    "            mode = 'lines',\n",
    "            name = 'mitsuba',\n",
    "            line = dict(\n",
    "                        width = 1,\n",
    "                        color = \"red\"\n",
    "                   ),\n",
    "            showlegend = (i == 0 and j == 0)\n",
    "            ),\n",
    "            row = i+1,\n",
    "            col = j+1,\n",
    "        )\n",
    "\n",
    "fig.update_layout(\n",
    "    title = \"Mie Mueller matrix elements\",\n",
    "    xaxis_title = \"theta (deg)\",\n",
    "    yaxis_title = \"value\",\n",
    "    showlegend = True\n",
    ")\n",
    "\n",
    "fig.update_yaxes(\n",
    "    type = 'log', \n",
    "    row = 1,\n",
    "    col = 1\n",
    ")\n",
    "\n",
    "fig_widget = go.FigureWidget(fig)\n",
    "\n",
    "# Update data in plots according to slider values\n",
    "def update(wav_slider, rad_slider, ior_imag_slider):\n",
    "    file_ref, file_mts = values_to_filenames(wav_slider, rad_slider, ior_imag_slider)\n",
    "    \n",
    "    if file_ref in mueller_dict and file_mts in mueller_dict:\n",
    "        data_ref = mueller_dict[file_ref]\n",
    "        data_mts = mueller_dict[file_mts]\n",
    "        \n",
    "        # Erase warning message\n",
    "        if warning_on_display():\n",
    "            ui.children = ui.children[:-1]\n",
    "    else:\n",
    "        # Show warning message\n",
    "        if not warning_on_display():\n",
    "            ui.children = (*ui.children, warning_label)\n",
    "        return\n",
    "    \n",
    "    with fig_widget.batch_update():\n",
    "        fig_widget.data[0].y = data_ref[:,1]\n",
    "        fig_widget.data[1].y = data_mts[:,1]\n",
    "        fig_widget.data[2].y = data_ref[:,2]\n",
    "        fig_widget.data[3].y = data_mts[:,2]\n",
    "        fig_widget.data[4].y = data_ref[:,3]\n",
    "        fig_widget.data[5].y = data_mts[:,3]\n",
    "        fig_widget.data[6].y = data_ref[:,4]\n",
    "        fig_widget.data[7].y = data_mts[:,4]\n",
    "\n",
    "out = widgets.interactive_output(update, {'wav_slider': wav_slider, 'rad_slider': rad_slider, 'ior_imag_slider': ior_imag_slider})\n",
    "display(ui)\n",
    "fig_widget"
   ]
  },
  {
   "cell_type": "code",
   "execution_count": null,
   "id": "equivalent-rubber",
   "metadata": {},
   "outputs": [],
   "source": []
  }
 ],
 "metadata": {
  "kernelspec": {
   "display_name": "Python 3",
   "language": "python",
   "name": "python3"
  },
  "language_info": {
   "codemirror_mode": {
    "name": "ipython",
    "version": 3
   },
   "file_extension": ".py",
   "mimetype": "text/x-python",
   "name": "python",
   "nbconvert_exporter": "python",
   "pygments_lexer": "ipython3",
   "version": "3.8.3"
  }
 },
 "nbformat": 4,
 "nbformat_minor": 5
}
